{
 "cells": [
  {
   "cell_type": "code",
   "execution_count": null,
   "metadata": {
    "vscode": {
     "languageId": "powershell"
    }
   },
   "outputs": [
    {
     "ename": "",
     "evalue": "",
     "output_type": "error",
     "traceback": [
      "\u001b[1;31mRunning cells with '.venv' requires the ipykernel package.\n",
      "\u001b[1;31mRun the following command to install 'ipykernel' into the Python environment. \n",
      "\u001b[1;31mCommand: 'c:/Users/s04284/Documents/Python/Training/Datacamp/ImpireStateBuildingSimulation/ImpireStateBuildingSimulation/.venv/Scripts/python.exe -m pip install ipykernel -U --force-reinstall'"
     ]
    }
   ],
   "source": [
    "import numpy as np\n",
    "import matplotlib.pyplot as plt\n",
    "# Initialize all_walks and set seed\n",
    "\n",
    "np.random.seed()\n",
    "all_walks = []\n",
    "\n",
    "# Simulate random walk 500 times\n",
    "for i in range(50):\n",
    "    random_walk = [0]\n",
    "    for x in range(100):\n",
    "        step = random_walk[-1]\n",
    "        dice = np.random.randint(1,7)\n",
    "        # Determine the direction of the next step\n",
    "        if dice <= 2:\n",
    "            step = max(0, step - 1)\n",
    "        elif dice <= 5:\n",
    "            step = step + 1\n",
    "        else:\n",
    "            step = step + np.random.randint(1,7)\n",
    "        # Implement clumsiness\n",
    "        if np.random.rand() <= 0.001:\n",
    "            step = 0\n",
    "        random_walk.append(step)\n",
    "    all_walks.append(random_walk)\n",
    "# Create and plot np_aw_t\n",
    "\n",
    "np_aw = np.array(all_walks)\n",
    "np_aw_t = np.transpose(np_aw)\n",
    "# Show how the steps evolve with time\n",
    "\n",
    "plt.plot(np_aw_t)\n",
    "plt.show()\n",
    "# Select last row from np_aw_t: ends\n",
    "\n",
    "ends = np_aw_t[-1,:]\n",
    "# Plot histogram of ends, display plot\n",
    "\n",
    "print(ends)\n",
    "plt.hist(ends)\n",
    "plt.show()\n",
    "\n",
    "# Calculate the odds of reaching 60 steps\n",
    "odds = np.mean(ends >= 60)\n",
    "print(odds)"
   ]
  },
  {
   "cell_type": "code",
   "execution_count": null,
   "metadata": {
    "vscode": {
     "languageId": "powershell"
    }
   },
   "outputs": [],
   "source": []
  }
 ],
 "metadata": {
  "kernelspec": {
   "display_name": ".venv",
   "language": "python",
   "name": "python3"
  },
  "language_info": {
   "codemirror_mode": {
    "name": "ipython",
    "version": 3
   },
   "file_extension": ".py",
   "mimetype": "text/x-python",
   "name": "python",
   "nbconvert_exporter": "python",
   "pygments_lexer": "ipython3",
   "version": "3.12.1"
  }
 },
 "nbformat": 4,
 "nbformat_minor": 2
}
